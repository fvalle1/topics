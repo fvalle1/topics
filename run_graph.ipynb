{
 "cells": [
  {
   "cell_type": "markdown",
   "metadata": {
    "colab_type": "text",
    "id": "kwdF-W4_xZIR"
   },
   "source": [
    "# Preprocessing and run hSBM"
   ]
  },
  {
   "cell_type": "code",
   "execution_count": 1,
   "metadata": {},
   "outputs": [
    {
     "name": "stdout",
     "output_type": "stream",
     "text": [
      "Author: Filippo_Valle\n",
      "\n",
      "Last updated: Wed Oct 19 2022\n",
      "\n",
      "Python implementation: CPython\n",
      "Python version       : 3.9.7\n",
      "IPython version      : 8.5.0\n",
      "\n",
      "pandas: 1.1.5\n",
      "numpy : 1.22.4\n",
      "scanpy: 1.9.1\n",
      "\n",
      "Compiler    : GCC 9.4.0\n",
      "OS          : Linux\n",
      "Release     : 5.19.0-21-generic\n",
      "Machine     : x86_64\n",
      "Processor   : x86_64\n",
      "CPU cores   : 12\n",
      "Architecture: 64bit\n",
      "\n",
      "Git hash: 6af288ff4fa34a7f9f04237fa48bed0dbc8ec340\n",
      "\n",
      "Git repo: git@github.com:fvalle1/topics.git\n",
      "\n",
      "Git branch: HEAD\n",
      "\n",
      "Watermark: 2.3.1\n",
      "\n"
     ]
    }
   ],
   "source": [
    "%load_ext watermark\n",
    "%watermark -v -m  -u -n -p pandas,numpy,scanpy -a Filippo_Valle -g -r -b -w"
   ]
  },
  {
   "cell_type": "code",
   "execution_count": null,
   "metadata": {
    "colab": {},
    "colab_type": "code",
    "id": "Hrsc2s1MLFNv"
   },
   "outputs": [],
   "source": [
    "# import some libraries\n",
    "import pandas as pd\n",
    "import numpy as np\n",
    "import os, sys"
   ]
  },
  {
   "cell_type": "markdown",
   "metadata": {
    "colab_type": "text",
    "id": "Rpy9eQ2WLFN1"
   },
   "source": [
    "# Download data or get the data"
   ]
  },
  {
   "cell_type": "markdown",
   "metadata": {
    "colab_type": "text",
    "id": "yqSD5nuQx6tW"
   },
   "source": [
    "## Use already downloaded from GTEx v8"
   ]
  },
  {
   "cell_type": "code",
   "execution_count": null,
   "metadata": {
    "colab": {
     "base_uri": "https://localhost:8080/",
     "height": 765
    },
    "colab_type": "code",
    "id": "DA7nomq8tFTN",
    "outputId": "230a3e58-0e93-45d1-9cdd-93b72bf7dd51"
   },
   "outputs": [],
   "source": [
    "df = pd.read_csv('https://storage.googleapis.com/adult-gtex/bulk-gex/v8/rna-seq/GTEx_Analysis_2017-06-05_v8_RNASeQCv1.1.9_gene_reads.gct.gz', skiprows=2, sep='\\t', index_col=0)\n",
    "df.index=[g[:15] for g in df.index]\n",
    "df=df[df.index.isin(pd.read_csv(\"http://stephenslab.github.io/count-clustering/project/utilities/gene_names_all_gtex.txt\", header=None).values.ravel())]\n",
    "df_files=pd.read_csv(\"https://storage.googleapis.com/adult-gtex/annotations/v8/metadata-files/GTEx_Analysis_v8_Annotations_SampleAttributesDS.txt\", sep='\\t', index_col=0)\n",
    "df_files = df_files[df_files.index.isin(df.columns)]\n",
    "df_files.head()"
   ]
  },
  {
   "cell_type": "code",
   "execution_count": null,
   "metadata": {
    "colab": {},
    "colab_type": "code",
    "id": "FGZXp-gSn22T"
   },
   "outputs": [],
   "source": [
    "df_files.to_csv(\"files.dat\")"
   ]
  },
  {
   "cell_type": "markdown",
   "metadata": {},
   "source": [
    "We ensure to have metadata for all files"
   ]
  },
  {
   "cell_type": "code",
   "execution_count": null,
   "metadata": {
    "colab": {
     "base_uri": "https://localhost:8080/",
     "height": 153
    },
    "colab_type": "code",
    "id": "nRdqQNR8tLbI",
    "outputId": "09f06f9e-c547-4ef1-b903-67bf3d8db81e"
   },
   "outputs": [],
   "source": [
    "df = df[df.columns[df.columns.isin(df_files.index)]]\n",
    "df.head(2)"
   ]
  },
  {
   "cell_type": "markdown",
   "metadata": {
    "colab_type": "text",
    "id": "i8M1VZiryCwS"
   },
   "source": [
    "### Sample columns\n",
    "We pick some samples at random. We get $100$ samples from 10 most represented tissues"
   ]
  },
  {
   "cell_type": "code",
   "execution_count": null,
   "metadata": {
    "colab": {},
    "colab_type": "code",
    "id": "-tsIh9S9LFN7"
   },
   "outputs": [],
   "source": [
    "rs = np.random.RandomState(seed=314)\n",
    "samples = pd.DataFrame(columns=df_files.columns)\n",
    "for site in df_files.groupby('SMTS').count().sort_values('SMTSD',ascending=False).index[:10]:\n",
    "    samples = samples.append(df_files[df_files['SMTS']==site].sample(100, random_state=rs))"
   ]
  },
  {
   "cell_type": "code",
   "execution_count": null,
   "metadata": {
    "colab": {
     "base_uri": "https://localhost:8080/",
     "height": 183
    },
    "colab_type": "code",
    "id": "m2WtMRH5LFN_",
    "outputId": "b4fe6ded-f767-4f1e-f4a5-ec739818450f"
   },
   "outputs": [],
   "source": [
    "# chack and verify the sampling process\n",
    "samples.groupby('SMTS').count().sort_values('SMTSD',ascending=False)"
   ]
  },
  {
   "cell_type": "code",
   "execution_count": null,
   "metadata": {
    "colab": {},
    "colab_type": "code",
    "id": "FYOnZVbZL2ZC"
   },
   "outputs": [],
   "source": [
    "df[samples.index].to_csv(\"mainTable_all.csv\")"
   ]
  },
  {
   "cell_type": "code",
   "execution_count": null,
   "metadata": {
    "colab": {},
    "colab_type": "code",
    "id": "cSKLkFcaER9P"
   },
   "outputs": [],
   "source": [
    "df_files.to_csv(\"files.dat\")"
   ]
  },
  {
   "cell_type": "markdown",
   "metadata": {
    "colab_type": "text",
    "id": "dAmO1tHQLFOE"
   },
   "source": [
    "# Filter genes"
   ]
  },
  {
   "cell_type": "markdown",
   "metadata": {},
   "source": [
    "## Highly Variable Genes"
   ]
  },
  {
   "cell_type": "markdown",
   "metadata": {},
   "source": [
    "We use scanpy to select $3000$ hvg"
   ]
  },
  {
   "cell_type": "code",
   "execution_count": null,
   "metadata": {},
   "outputs": [],
   "source": [
    "import scanpy as sc"
   ]
  },
  {
   "cell_type": "code",
   "execution_count": null,
   "metadata": {
    "colab": {
     "base_uri": "https://localhost:8080/",
     "height": 34
    },
    "colab_type": "code",
    "id": "Uc32xZSlPCkc",
    "outputId": "6c6c9274-3ca4-42c3-8ebe-ae4b939a36b3"
   },
   "outputs": [],
   "source": [
    "samples = samples\n",
    "genes = df.index\n",
    "print(len(samples), len(genes))"
   ]
  },
  {
   "cell_type": "code",
   "execution_count": null,
   "metadata": {
    "colab": {},
    "colab_type": "code",
    "id": "jVjvDFzBLFOF"
   },
   "outputs": [],
   "source": [
    "adata = sc.AnnData(X=df.reindex(index=genes, columns=samples.index).transpose(), obs=samples)"
   ]
  },
  {
   "cell_type": "code",
   "execution_count": null,
   "metadata": {
    "colab": {},
    "colab_type": "code",
    "id": "R7wsXyxZLFOJ"
   },
   "outputs": [],
   "source": [
    "sc.pp.log1p(adata, copy=False)\n",
    "sc.pp.highly_variable_genes(adata, n_top_genes=3000, n_bins=50)"
   ]
  },
  {
   "cell_type": "code",
   "execution_count": null,
   "metadata": {
    "colab": {
     "base_uri": "https://localhost:8080/",
     "height": 296
    },
    "colab_type": "code",
    "id": "gdQauaSKLFOQ",
    "outputId": "8053d210-05ca-400b-aa64-9f20fa51021a"
   },
   "outputs": [],
   "source": [
    "sc.pl.highly_variable_genes(adata, log=False, save='hvg.pdf')"
   ]
  },
  {
   "cell_type": "code",
   "execution_count": null,
   "metadata": {
    "colab": {},
    "colab_type": "code",
    "id": "sEo3X6pSLFOU"
   },
   "outputs": [],
   "source": [
    "hvg = adata.var[adata.var['highly_variable']==True].index\n",
    "samples = adata.obs.index"
   ]
  },
  {
   "cell_type": "markdown",
   "metadata": {
    "colab_type": "text",
    "id": "6Fxpu6Y6ylyI"
   },
   "source": [
    "Save a new table with only hvg"
   ]
  },
  {
   "cell_type": "code",
   "execution_count": null,
   "metadata": {
    "colab": {},
    "colab_type": "code",
    "id": "R4wI9T8PSq6i"
   },
   "outputs": [],
   "source": [
    "df.reindex(index=hvg, columns=samples).to_csv(\"mainTable_hv.csv\")"
   ]
  },
  {
   "cell_type": "markdown",
   "metadata": {
    "colab_type": "text",
    "id": "EjZgH93w2wRm"
   },
   "source": [
    "## Select HouseKeeping"
   ]
  },
  {
   "cell_type": "markdown",
   "metadata": {
    "colab_type": "text",
    "id": "s1GcJNV4yqKZ"
   },
   "source": [
    "We download [Human House Keeping genes](https://www.cell.com/trends/genetics/fulltext/S0168-9525(13)00089-9?_returnURL=https%3A%2F%2Flinkinghub.elsevier.com%2Fretrieve%2Fpii%2FS0168952513000899%3Fshowall%3Dtrue) from [https://www.tau.ac.il/~elieis/HKG/](https://www.tau.ac.il/~elieis/HKG/HK_exons.xlsx)"
   ]
  },
  {
   "cell_type": "code",
   "execution_count": null,
   "metadata": {
    "colab": {},
    "colab_type": "code",
    "id": "GT-3FIkg22qo"
   },
   "outputs": [],
   "source": [
    "!wget https://www.tau.ac.il/~elieis/HKG/HK_exons.xlsx\n",
    "hk = pd.read_excel(\"HK_exons.xlsx\")[\"Gene Name\"].unique()"
   ]
  },
  {
   "cell_type": "markdown",
   "metadata": {
    "colab_type": "text",
    "id": "vgoikocwzU3z"
   },
   "source": [
    "Here we use [https://www.genenames.org](https://www.genenames.org) to convert  genes' names to Ensamble' ids"
   ]
  },
  {
   "cell_type": "code",
   "execution_count": null,
   "metadata": {
    "colab": {},
    "colab_type": "code",
    "id": "IyttG6Sr22pU"
   },
   "outputs": [],
   "source": [
    "hgcn_url = \"https://www.genenames.org/cgi-bin/download/custom?col=gd_hgnc_id&col=gd_app_sym&col=gd_app_name&col=md_ensembl_id&status=Approved&status=Entry%20Withdrawn&hgnc_dbtag=on&order_by=gd_app_name&format=text&submit=submit\"\n",
    "df_conversion=pd.read_csv(hgcn_url, sep=\"\\t\")"
   ]
  },
  {
   "cell_type": "code",
   "execution_count": null,
   "metadata": {
    "colab": {},
    "colab_type": "code",
    "id": "NJQnZfInEREP"
   },
   "outputs": [],
   "source": [
    "df_hk_ensg = df_conversion[(df_conversion[\"Approved symbol\"].isin(hk))&(df_conversion[\"Ensembl ID(supplied by Ensembl)\"].isin(df.index))][\"Ensembl ID(supplied by Ensembl)\"].drop_duplicates().values"
   ]
  },
  {
   "cell_type": "code",
   "execution_count": null,
   "metadata": {
    "colab": {},
    "colab_type": "code",
    "id": "xjQm3_p3IQo1"
   },
   "outputs": [],
   "source": [
    "df_hk = df.reindex(index=df_hk_ensg)\n",
    "df_hk.to_csv(\"mainTable_hk.csv\", index=True)"
   ]
  },
  {
   "cell_type": "markdown",
   "metadata": {
    "colab_type": "text",
    "id": "WJw8LIAuLFOa"
   },
   "source": [
    "# Run hierarchical Stochastic Block Model\n",
    "We run [stochastic block model](https://github.com/martingerlach/hSBM_Topicmodel/tree/develop) forked from [https://github.com/martingerlach/hSBM_Topicmodel](https://github.com/martingerlach/hSBM_Topicmodel).\n",
    "\n",
    "Clone the repository with the code and add it to the system path\n",
    "\n",
    "```bash\n",
    "git clone --branch develop_share https://github.com/fvalle1/hSBM_Topicmodel/\n",
    "```"
   ]
  },
  {
   "cell_type": "code",
   "execution_count": null,
   "metadata": {
    "colab": {
     "base_uri": "https://localhost:8080/",
     "height": 153
    },
    "colab_type": "code",
    "id": "wc8eyP_LLFOb",
    "outputId": "21ec4c0a-5d64-48a9-a7ca-0f8930553d12"
   },
   "outputs": [],
   "source": [
    "sys.path.append(\"/home/jovyan/work/topics/hSBM_Topicmodel/\")\n",
    "from sbmtm import sbmtm\n",
    "\n",
    "# create the model\n",
    "model = sbmtm()"
   ]
  },
  {
   "cell_type": "code",
   "execution_count": null,
   "metadata": {
    "colab": {
     "base_uri": "https://localhost:8080/",
     "height": 34
    },
    "colab_type": "code",
    "id": "9IWe7zvuLFOg",
    "outputId": "adc3e5ce-089d-43fe-d2a7-15099c7d261b"
   },
   "outputs": [],
   "source": [
    "samples = samples\n",
    "genes = hvg\n",
    "print(len(samples), len(genes))"
   ]
  },
  {
   "cell_type": "markdown",
   "metadata": {},
   "source": [
    "## Put the data into the model\n",
    "\n",
    "You can choose to:\n",
    "- **create** a model from raw data\n",
    "- **load** a network provided in the form of a *graph.xml.gz* file\n",
    "- load a **pretrained** model stored in a *topsbm.pkl* file"
   ]
  },
  {
   "cell_type": "markdown",
   "metadata": {
    "colab_type": "text",
    "id": "viYv-ehPtIzq"
   },
   "source": [
    "### make a graph with the data\n",
    "\n",
    "Skip this if you want to use a *graph.xml.gz* file already provided"
   ]
  },
  {
   "cell_type": "code",
   "execution_count": null,
   "metadata": {
    "colab": {},
    "colab_type": "code",
    "id": "IqIVBZIJDIY8"
   },
   "outputs": [],
   "source": [
    "df = pd.read_csv(\"mainTable_hv.csv\", index_col=0)\n",
    "genes = df.index\n",
    "samples = pd.Series(index=df.columns)\n",
    "print(len(samples), len(genes))"
   ]
  },
  {
   "cell_type": "code",
   "execution_count": null,
   "metadata": {
    "colab": {
     "base_uri": "https://localhost:8080/",
     "height": 34
    },
    "colab_type": "code",
    "id": "awX5gbUoLFOr",
    "outputId": "d9d59938-1a93-450a-d796-303b0ae3cca1"
   },
   "outputs": [],
   "source": [
    "model.make_graph_from_BoW_df(df.reindex(index=genes, columns=samples.index).dropna())\n",
    "\n",
    "## Apply a log2 transformation\n",
    "#model.make_graph_from_BoW_df(df.reindex(index=genes, columns=samples.index).dropna().applymap(lambda tpm: np.log2(tpm+1)))\n",
    "\n",
    "## Apply a log10 transformation\n",
    "#model.make_graph_from_BoW_df(df.reindex(index=genes, columns=samples.index).dropna().applymap(lambda tpm: np.log10(tpm+1)))\n",
    "\n",
    "model.save_graph(\"graph.xml.gz\")\n",
    "model.g"
   ]
  },
  {
   "cell_type": "markdown",
   "metadata": {
    "colab_type": "text",
    "id": "ULe4g3qTtLFY"
   },
   "source": [
    "### load data\n",
    "Use this only if you **already have a *graph.xml.gz*** file"
   ]
  },
  {
   "cell_type": "code",
   "execution_count": null,
   "metadata": {
    "colab": {},
    "colab_type": "code",
    "id": "VPMxekzvLFO1"
   },
   "outputs": [],
   "source": [
    "# load graph\n",
    "model.load_graph(\"graph.xml.gz\")\n",
    "model.g"
   ]
  },
  {
   "cell_type": "markdown",
   "metadata": {
    "colab_type": "text",
    "id": "Ldd2ZxostNve"
   },
   "source": [
    "### load pretrained\n",
    "Use this only if you **already have a *topsbm.pkl*** file with a trained model "
   ]
  },
  {
   "cell_type": "code",
   "execution_count": null,
   "metadata": {},
   "outputs": [],
   "source": [
    "try:\n",
    "    import graph_tool as gt\n",
    "except:\n",
    "    raise ImportError(\"please use python 3.6 kernel\")"
   ]
  },
  {
   "cell_type": "code",
   "execution_count": null,
   "metadata": {
    "colab": {},
    "colab_type": "code",
    "id": "blowKA-nzRal"
   },
   "outputs": [],
   "source": [
    "# load pretrainded\n",
    "import pickle\n",
    "\n",
    "with open(\"topsbm/topsbm.pkl\", \"rb\") as file:\n",
    "    model = pickle.load(file)\n",
    "\n",
    "model.g"
   ]
  },
  {
   "cell_type": "markdown",
   "metadata": {
    "colab_type": "text",
    "id": "QcdDMsOdtTPm"
   },
   "source": [
    "## Run the model\n",
    "\n",
    "This may take a long time and a lot of memory, wait before running in a local machine"
   ]
  },
  {
   "cell_type": "code",
   "execution_count": null,
   "metadata": {
    "colab": {},
    "colab_type": "code",
    "id": "9Phpa4YLWzuv"
   },
   "outputs": [],
   "source": [
    "config = \"gtex\"\n",
    "os.system(f\"mkdir -p {config} && mkdir -p {config}/topsbm\")\n",
    "os.chdir(f\"{config}/topsbm\")\n",
    "\n",
    "model.fit(n_init=10, parallel=True, verbose=True)\n",
    "model.save_data()"
   ]
  },
  {
   "cell_type": "markdown",
   "metadata": {
    "colab_type": "text",
    "id": "KIkACZOk4VfP"
   },
   "source": [
    "# Check models\n",
    "You can use these functions to inspect saved models.\n",
    "\n",
    "Do not use unless needed"
   ]
  },
  {
   "cell_type": "code",
   "execution_count": null,
   "metadata": {
    "colab": {},
    "colab_type": "code",
    "id": "4YHyOxloazu9"
   },
   "outputs": [],
   "source": [
    "pd.read_csv(\"mainTable.csv\", index_col=0).applymap(lambda tpm: np.log10(tpm+1)).max().hist()"
   ]
  },
  {
   "cell_type": "code",
   "execution_count": null,
   "metadata": {
    "colab": {},
    "colab_type": "code",
    "id": "r4Epv3GQT25w"
   },
   "outputs": [],
   "source": [
    "pd.read_csv(\"mainTable_log.csv\", index_col=0).max().hist()"
   ]
  },
  {
   "cell_type": "code",
   "execution_count": null,
   "metadata": {
    "colab": {},
    "colab_type": "code",
    "id": "h39hRU-2UAPG"
   },
   "outputs": [],
   "source": [
    "os.chdir(\"/content/drive/My Drive/phd/TOPSBM_TEST\")\n",
    "os.getcwd()"
   ]
  },
  {
   "cell_type": "code",
   "execution_count": null,
   "metadata": {
    "colab": {},
    "colab_type": "code",
    "id": "xEMFMbjfhp17"
   },
   "outputs": [],
   "source": [
    "import graph_tool as gt\n",
    "import seaborn as sns\n",
    "from sbmtm import sbmtm"
   ]
  },
  {
   "cell_type": "code",
   "execution_count": null,
   "metadata": {
    "colab": {},
    "colab_type": "code",
    "id": "D2uvvdkM4Pyd"
   },
   "outputs": [],
   "source": [
    "model = sbmtm()"
   ]
  },
  {
   "cell_type": "code",
   "execution_count": null,
   "metadata": {
    "colab": {},
    "colab_type": "code",
    "id": "Ws8fEIku4df3"
   },
   "outputs": [],
   "source": [
    "import matplotlib.pyplot as plt\n",
    "def load_and_print(graph=\"graph.xml.gz\", **kwargs):\n",
    "    model.load_graph(graph)\n",
    "    print(model.g)\n",
    "    print(len(model.words),len(model.documents))\n",
    "    data = gt.spectral.adjacency(model.g, weight=model.g.edge_properties[\"count\"]).toarray()\n",
    "    n_doc = len(model.documents)\n",
    "    data = data[n_doc:,:n_doc]\n",
    "    ax = sns.heatmap(data, **kwargs)\n",
    "    ax.set_ylabel(\"words\", fontsize=35, rotation=90)\n",
    "    ax.yaxis.tick_left()\n",
    "    ax.yaxis.set_label_position(\"left\")\n",
    "\n",
    "    ax.set_xlabel(\"documents\",fontsize=35)\n",
    "    ax.tick_params(labelsize=25)\n",
    "    return model, data\n",
    "\n",
    "def load_trained_and_print(graph=\"topsbm.pkl\", **kwargs):\n",
    "    import pickle\n",
    "    with open(graph,\"rb\") as io:\n",
    "    model = pickle.load(io)\n",
    "    print(model.g)\n",
    "    print(len(model.words),len(model.documents))\n",
    "    data = gt.spectral.adjacency(model.g, weight=model.g.edge_properties[\"count\"]).toarray()\n",
    "    n_doc = len(model.documents)\n",
    "    data = data[n_doc:,:n_doc]\n",
    "    ax = sns.heatmap(data, **kwargs)\n",
    "    ax.set_ylabel(\"words\", fontsize=35, rotation=90)\n",
    "    ax.yaxis.tick_left()\n",
    "    ax.yaxis.set_label_position(\"left\")\n",
    "\n",
    "    ax.set_xlabel(\"documents\",fontsize=35)\n",
    "    ax.tick_params(labelsize=25)\n",
    "    return model, data"
   ]
  },
  {
   "cell_type": "code",
   "execution_count": null,
   "metadata": {
    "colab": {},
    "colab_type": "code",
    "id": "BeDZqwat5Fk3"
   },
   "outputs": [],
   "source": [
    "load_and_print(\"graph_log.xml.gz\");"
   ]
  },
  {
   "cell_type": "code",
   "execution_count": null,
   "metadata": {
    "colab": {},
    "colab_type": "code",
    "id": "27fmS6ZW5MJ2"
   },
   "outputs": [],
   "source": [
    "load_and_print(\"graph_hk.xml.gz\", vmax=5e3);"
   ]
  },
  {
   "cell_type": "code",
   "execution_count": null,
   "metadata": {
    "colab": {},
    "colab_type": "code",
    "id": "wJkOgu_05Whb"
   },
   "outputs": [],
   "source": [
    "load_and_print(\"graph_log10.xml.gz\");"
   ]
  }
 ],
 "metadata": {
  "colab": {
   "collapsed_sections": [
    "EjZgH93w2wRm",
    "ULe4g3qTtLFY",
    "Ldd2ZxostNve"
   ],
   "machine_shape": "hm",
   "name": "run_graph.ipynb",
   "provenance": [],
   "toc_visible": true
  },
  "kernelspec": {
   "display_name": "Python 3.9.7 ('base')",
   "language": "python",
   "name": "python3"
  },
  "language_info": {
   "codemirror_mode": {
    "name": "ipython",
    "version": 3
   },
   "file_extension": ".py",
   "mimetype": "text/x-python",
   "name": "python",
   "nbconvert_exporter": "python",
   "pygments_lexer": "ipython3",
   "version": "3.9.7"
  },
  "vscode": {
   "interpreter": {
    "hash": "d4d1e4263499bec80672ea0156c357c1ee493ec2b1c70f0acce89fc37c4a6abe"
   }
  }
 },
 "nbformat": 4,
 "nbformat_minor": 4
}
